{
 "cells": [
  {
   "cell_type": "markdown",
   "metadata": {},
   "source": [
    "### Завдання: \"Генератор щоденника виконання функцій\"\n",
    "\n",
    "**Опис завдання**:\n",
    "\n",
    "Ви - розробник, який працює над великим проектом. Для кращого моніторингу виконання функцій ви вирішили створити декоратор, який буде записувати інформацію про кожен виклик функції. Також ви хочете мати можливість перебирати всі записи у порядку їх додавання за допомогою генератора.\n",
    "\n",
    "**Завдання**:\n",
    "\n",
    "1. **Створіть декоратор `@logger`, який буде:**\n",
    "    - Записувати час виклику, назву функції, передані аргументи та отриманий результат.\n",
    "    - Зберігати цю інформацію у якійсь внутрішній структурі (наприклад, у списку).\n",
    "\n",
    "2. **Створіть генератор `get_logs()`, який буде:**\n",
    "    - Повертати по одному запису з історії викликів кожного разу, коли його викликають.\n",
    "\n",
    "**Приклад використання**:\n",
    "\n",
    "```python\n",
    "@logger\n",
    "def multiply(a, b):\n",
    "    return a * b\n",
    "\n",
    "multiply(3, 4)\n",
    "multiply(5, 6)\n",
    "\n",
    "log = get_logs()\n",
    "\n",
    "print(next(log))  # Повинно повернути інформацію про виклик `multiply(3, 4)`\n",
    "print(next(log))  # Повинно повернути інформацію про виклик `multiply(5, 6)`\n",
    "```\n",
    "\n",
    "**Підказки**:\n",
    "\n",
    "1. Декоратор може використовувати `datetime.now()` для отримання часу виклику.\n",
    "2. Генератору, можливо, знадобиться мати доступ до внутрішньої структури декоратора, щоб перебирати записи.\n",
    "\n",
    "## Додаткове завдання\n",
    "- зробити запис логу у файл. Повторити всі вказані операції, при умові синхронізації логу у файлі\n",
    "- розширити функціонал декоратору @log додавши можливість збереження типу функції (наприклад, лог помилок, лог виклику фунцкції з ворнінгом і т.п.)"
   ]
  },
  {
   "cell_type": "code",
   "execution_count": 21,
   "metadata": {},
   "outputs": [
    {
     "name": "stdout",
     "output_type": "stream",
     "text": [
      "Time: 2023-12-12 19:05:43, Function: multiply, Arguments: [3, 4], Result: 12\n",
      "Time: 2023-12-12 19:05:43, Function: multiply, Arguments: [5, 6], Result: 30\n"
     ]
    }
   ],
   "source": [
    "from datetime import datetime\n",
    "\n",
    "# Декоратор logger\n",
    "def logger(func):\n",
    "    logs = []\n",
    "\n",
    "    def wrapper(*args, **kwargs):\n",
    "        call_time = datetime.now().strftime(\"%Y-%m-%d %H:%M:%S\")\n",
    "        result = func(*args, **kwargs)\n",
    "        func_name = func.__name__\n",
    "        arguments = ', '.join([repr(arg) for arg in args])\n",
    "        logs.append(f\"Time: {call_time}, Function: {func_name}, Arguments: [{arguments}], Result: {result}\")\n",
    "        return result\n",
    "    \n",
    "    def get_logs():\n",
    "        return logs\n",
    "    \n",
    "    wrapper.get_logs = get_logs  # Приєднуємо функцію get_logs() до wrapper як атрибут\n",
    "    \n",
    "    return wrapper\n",
    "\n",
    "@logger\n",
    "def multiply(a, b):\n",
    "    return a * b\n",
    "\n",
    "multiply(3, 4)\n",
    "multiply(5, 6)\n",
    "\n",
    "log_generator = multiply.get_logs()  # Отримуємо функцію get_logs() з декорованої функції\n",
    "log_iter = iter(log_generator)  # Перетворюємо функцію get_logs() на ітератор\n",
    "\n",
    "print(next(log_iter))  # Поверне інформацію про виклик `multiply(3, 4)`\n",
    "print(next(log_iter))  # Поверне інформацію про виклик `multiply(5, 6)`\n"
   ]
  }
 ],
 "metadata": {
  "kernelspec": {
   "display_name": "Python 3",
   "language": "python",
   "name": "python3"
  },
  "language_info": {
   "codemirror_mode": {
    "name": "ipython",
    "version": 3
   },
   "file_extension": ".py",
   "mimetype": "text/x-python",
   "name": "python",
   "nbconvert_exporter": "python",
   "pygments_lexer": "ipython3",
   "version": "3.11.5"
  }
 },
 "nbformat": 4,
 "nbformat_minor": 2
}
