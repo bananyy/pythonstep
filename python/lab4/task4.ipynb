{
 "cells": [
  {
   "cell_type": "markdown",
   "metadata": {},
   "source": [
    "# Списки, кортежі, словники, множини та виключення в Python\n",
    "\n",
    "## Опис\n",
    "\n",
    "Ваше завдання — створити програму для мандрівника у часі, яка буде використовувати різні типи даних та обробку виключень у Python.\n",
    "\n",
    "## Особливості\n",
    "\n",
    "- **Списки**: Вам потрібно створити список, кожен елемент якого буде кортежем із роком та подією в цьому році.\n",
    "- **Кортежі**: Кожен кортеж повинен містити рік та опис події.\n",
    "- **Словники**: Створіть словник, у якому ключі будуть роками, а значення — подіями.\n",
    "- **Множини**: Створіть множину років, які ви хочете відвідати.\n",
    "- **Виключення**: Ваш код повинен коректно обробляти ситуацію, коли зазначений рік відсутній у словнику часу.\n",
    "\n",
    "## Завдання\n",
    "\n",
    "1. Створіть список подій та словник часу, використовуючи списки та кортежі.\n",
    "2. Ініціалізуйте множину років, які ви хочете відвідати.\n",
    "3. Реалізуйте обробку виключень для років, яких немає в вашому словнику часу.\n",
    "\n",
    "## Додаткове завдання\n",
    "\n",
    "Додайте функціональність, яка дозволяє користувачеві додавати та видаляти події із словника часу.\n",
    "\n",
    "<!-- image -->\n",
    "<div style=\"width: 100%; overflow: hidden; \">\n",
    "<img src=\"https://imgtr.ee/images/2023/10/02/979b09462432ad8113c07f8701ec17dc.jpeg\" style=\"width: 90%; height: auto; margin-left: 5%;\"/>\n",
    "</div>"
   ]
  },
  {
   "cell_type": "markdown",
   "metadata": {},
   "source": []
  },
  {
   "cell_type": "code",
   "execution_count": 7,
   "metadata": {},
   "outputs": [
    {
     "name": "stdout",
     "output_type": "stream",
     "text": [
      "In 1: Народження Jesus\n",
      "In 1900: Перший пілотований політ Запорізьким\n",
      "In 1969: Людина на Місяці\n",
      "In 1986: Аварія на ЧАЕС\n",
      "In 2000: Початок нового тисячоліття\n",
      "In 2022: Повномасштабне вторгнення Росії на територфію України\n",
      "Рік 3000 відсутній у словнику часу!\n",
      "Рік 3000 відсутній у словнику часу!\n"
     ]
    }
   ],
   "source": [
    "class TimeTraveler:\n",
    "    def __init__(self):\n",
    "        self.events = [\n",
    "            (1, \"Народження Jesus\"),\n",
    "            (1900, \"Перший пілотований політ Запорізьким\"),\n",
    "            (1969, \"Людина на Місяці\"),\n",
    "            (2000, \"Початок нового тисячоліття\"),\n",
    "            (1986, \"Аварія на ЧАЕС\"),\n",
    "            (2022, \"Повномасштабне вторгнення Росії на територфію України\"),\n",
    "        ]\n",
    "        self.time_dict = {event[0]: event[1] for event in self.events}\n",
    "\n",
    "    def visit_years(self, years_to_visit):\n",
    "        try:\n",
    "            sorted_years = sorted(years_to_visit)\n",
    "            \n",
    "            for year in sorted_years:\n",
    "                if year in self.time_dict:\n",
    "                    event = self.time_dict[year]\n",
    "                    print(f\"In {year}: {event}\")\n",
    "                else:\n",
    "                    print(f\"Рік {year} відсутній у словнику часу!\")\n",
    "        except KeyError as e:\n",
    "            print(f\"Рік {e} відсутній у словнику часу!\")\n",
    "\n",
    "    def add_event(self, year, event_description):\n",
    "        self.time_dict[year] = event_description\n",
    "\n",
    "    def remove_event(self, year):\n",
    "        if year in self.time_dict:\n",
    "            del self.time_dict[year]\n",
    "            print(f\"Подія у році {year} була видалена.\")\n",
    "        else:\n",
    "            print(f\"Рік {year} відсутній у словнику часу!\")\n",
    "\n",
    "# Ініціалізація класу\n",
    "traveler = TimeTraveler()\n",
    "\n",
    "# Ініціалізація множини років для відвідування\n",
    "years_to_visit = {1, 1900, 1969, 1986, 2000, 2022, 3000} \n",
    "\n",
    "# Відвідування років та обробка виключень\n",
    "traveler.visit_years(years_to_visit)\n",
    "\n",
    "# Додавання та видалення подій\n",
    "traveler.add_event(2022, \"Остання відома подія\")\n",
    "traveler.remove_event(3000)\n"
   ]
  },
  {
   "cell_type": "code",
   "execution_count": null,
   "metadata": {},
   "outputs": [],
   "source": []
  }
 ],
 "metadata": {
  "kernelspec": {
   "display_name": "Python 3",
   "language": "python",
   "name": "python3"
  },
  "language_info": {
   "codemirror_mode": {
    "name": "ipython",
    "version": 3
   },
   "file_extension": ".py",
   "mimetype": "text/x-python",
   "name": "python",
   "nbconvert_exporter": "python",
   "pygments_lexer": "ipython3",
   "version": "3.11.5"
  }
 },
 "nbformat": 4,
 "nbformat_minor": 2
}
