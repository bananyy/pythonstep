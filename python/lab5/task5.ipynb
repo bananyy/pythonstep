{
 "cells": [
  {
   "cell_type": "markdown",
   "id": "34835817",
   "metadata": {},
   "source": [
    "## Основне завдання: Імпровізована база даних студентів\n",
    "\n",
    "Ваше завдання — створити просту імпровізовану базу даних студентів у форматі CSV. База даних повинна містити ім'я, прізвище, вік та спеціальність студента.\n",
    "\n",
    "1. **Створення бази даних**: Створіть файл `students.csv` та запишіть в нього заголовки для наступних полів: Ім'я, Прізвище, Вік, Спеціальність.\n",
    "2. **Додавання записів**: Додайте інформацію про 5 студентів до файлу `students.csv`.\n",
    "3. **Читання бази даних**: Прочитайте файл `students.csv` та виведіть інформацію про всіх студентів.\n",
    "4. **Пошук студентів**: Прочитайте файл `students.csv` та виведіть інформацію про студентів, які старші 20 років.\n",
    "5. **Оновлення записів**: Змініть спеціальність одного зі студентів у файлі `students.csv`.\n",
    "6. **Видалення запису**: Видаліть запис про одного зі студентів з файлу `students.csv`.\n",
    "7. **Сортування бази даних**: Сортуйте записи в файлі `students.csv` за віком студентів в зростаючому порядку.\n",
    "\n",
    "### Додаткове завдання на + бали\n",
    "\n",
    "1. **Статистика**: Прочитайте файл `students.csv` та виведіть середній вік студентів для кожної спеціальності.\n",
    "\n",
    "<div style=\"width: 100%; overflow: hidden; display: flex; justify-content: center; \">\n",
    "<img style=\"width: 60rem;\" src=\"https://i.ibb.co/cv7MLHW/99fdaf80-8894-42f1-8ff4-a64219b33b9f.webp\" alt=\"99fdaf80-8894-42f1-8ff4-a64219b33b9f\" border=\"0\"/>\n",
    "</div>\n"
   ]
  },
  {
   "cell_type": "code",
   "execution_count": 16,
   "metadata": {},
   "outputs": [],
   "source": [
    "import csv\n",
    "\n",
    "with open('students.csv', 'w', newline='') as file:\n",
    "    writer = csv.writer(file)\n",
    "    writer.writerow(['Ім\\'я', 'Прізвище', 'Вік', 'Спеціальність'])\n",
    "\n",
    "students_data = [\n",
    "    ['Роман', 'Піх', 18, 'Інформатика'],\n",
    "    ['Валерія', 'Митюк', 20, 'Математика'],\n",
    "    ['Роман', 'Кафльовський', 19, 'Фізика'],\n",
    "    ['Валентин', 'Стемпіцький', 23, 'Математика'],\n",
    "    ['Марта', 'Беренець', 19, 'Інформатика'],\n",
    "    ['Анна', 'Ковальчук', 26, 'Хімія'],\n",
    "    ['Олександр', 'Холонівський', 18, 'Хімія'],\n",
    "    ['Василь', 'Мачоган', 21, 'Біологія']\n",
    "]\n",
    "\n",
    "with open('students.csv', 'a', newline='') as file:\n",
    "    writer = csv.writer(file)\n",
    "    writer.writerows(students_data)\n"
   ]
  },
  {
   "cell_type": "code",
   "execution_count": 17,
   "metadata": {},
   "outputs": [
    {
     "name": "stdout",
     "output_type": "stream",
     "text": [
      "Ім'я            Прізвище        Вік   Спеціальність  \n",
      "--------------------------------------------------\n",
      "Роман           Піх             18    Інформатика    \n",
      "Валерія         Митюк           20    Математика     \n",
      "Роман           Кафльовський    19    Фізика         \n",
      "Валентин        Стемпіцький     23    Математика     \n",
      "Марта           Беренець        19    Інформатика    \n",
      "Анна            Ковальчук       26    Хімія          \n",
      "Олександр       Холонівський    18    Хімія          \n",
      "Василь          Мачоган         21    Біологія       \n"
     ]
    }
   ],
   "source": [
    "import csv\n",
    "\n",
    "with open('students.csv', newline='') as file:\n",
    "    reader = csv.reader(file)\n",
    "    header = next(reader)  \n",
    "\n",
    "    print(f\"{header[0]:<15} {header[1]:<15} {header[2]:<5} {header[3]:<15}\")  \n",
    "    print('-' * 50)  \n",
    "\n",
    "    for row in reader:\n",
    "        print(f\"{row[0]:<15} {row[1]:<15} {row[2]:<5} {row[3]:<15}\")\n"
   ]
  },
  {
   "cell_type": "code",
   "execution_count": 18,
   "metadata": {},
   "outputs": [
    {
     "name": "stdout",
     "output_type": "stream",
     "text": [
      "Середній вік для кожної спеціальності:\n",
      "Спеціальність: Інформатика, Середній вік: 18.50\n",
      "Спеціальність: Математика, Середній вік: 21.50\n",
      "Спеціальність: Фізика, Середній вік: 19.00\n",
      "Спеціальність: Хімія, Середній вік: 22.00\n",
      "Спеціальність: Біологія, Середній вік: 21.00\n"
     ]
    }
   ],
   "source": [
    "import csv\n",
    "from collections import defaultdict\n",
    "\n",
    "with open('students.csv', newline='') as file:\n",
    "    reader = csv.reader(file)\n",
    "    header = next(reader)  \n",
    "\n",
    "    specialties = defaultdict(list)\n",
    "\n",
    "    for row in reader:\n",
    "        specialty = row[3]  \n",
    "        age = int(row[2])  \n",
    "        specialties[specialty].append(age)\n",
    "\n",
    "    print(\"Середній вік для кожної спеціальності:\")\n",
    "    for specialty, ages in specialties.items():\n",
    "        average_age = sum(ages) / len(ages)\n",
    "        print(f\"Спеціальність: {specialty}, Середній вік: {average_age:.2f}\")\n"
   ]
  }
 ],
 "metadata": {
  "kernelspec": {
   "display_name": "Python 3",
   "language": "python",
   "name": "python3"
  },
  "language_info": {
   "codemirror_mode": {
    "name": "ipython",
    "version": 3
   },
   "file_extension": ".py",
   "mimetype": "text/x-python",
   "name": "python",
   "nbconvert_exporter": "python",
   "pygments_lexer": "ipython3",
   "version": "3.11.5"
  }
 },
 "nbformat": 4,
 "nbformat_minor": 5
}
