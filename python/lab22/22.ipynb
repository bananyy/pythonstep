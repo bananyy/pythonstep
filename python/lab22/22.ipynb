{
 "cells": [
  {
   "cell_type": "markdown",
   "metadata": {},
   "source": [
    "# Мережа ресторанів\n",
    "Задача полягає у створенні структури ресторану. Ресторани бувають різних типів:\n",
    "- Суші-ресторани\n",
    "- Піцерії\n",
    "- Стейк-хауза\n",
    "\n",
    "## Особливості:\n",
    "В залежності від того, який ресторан імплементовано, той функціонал він має мати. Суші-ресторани можуть приготувати різноманітні роли та суші. Піцерії здатні приготувати піцу на різних типах тіста. Стейк-хаузи спеціалізуються на приготуванні страв з різних типів м'яса. Ми маємо мати можливість реалізувати різноманітні замовлення в різних ресторанах.\n",
    "\n",
    "## Завдання:\n",
    "Реалізуйте представленний вище функціонал в конкретній формі, використовуючи функції, класи та ООП."
   ]
  },
  {
   "cell_type": "markdown",
   "metadata": {},
   "source": []
  },
  {
   "cell_type": "code",
   "execution_count": 1,
   "metadata": {},
   "outputs": [
    {
     "name": "stdout",
     "output_type": "stream",
     "text": [
      "Sushi Time: Preparing sushi and rolls\n",
      "Pizza Palace: Making pizza with different types of dough\n",
      "Steak World: Cooking various types of meat dishes\n"
     ]
    }
   ],
   "source": [
    "class Restaurant:\n",
    "    def __init__(self, name):\n",
    "        self.name = name\n",
    "\n",
    "    def prepare_food(self):\n",
    "        pass\n",
    "\n",
    "class SushiRestaurant(Restaurant):\n",
    "    def prepare_food(self):\n",
    "        return \"Preparing sushi and rolls\"\n",
    "\n",
    "class Pizzeria(Restaurant):\n",
    "    def prepare_food(self):\n",
    "        return \"Making pizza with different types of dough\"\n",
    "\n",
    "class SteakHouse(Restaurant):\n",
    "    def prepare_food(self):\n",
    "        return \"Cooking various types of meat dishes\"\n",
    "\n",
    "sushi_place = SushiRestaurant(\"Sushi Time\")\n",
    "print(f\"{sushi_place.name}: {sushi_place.prepare_food()}\")\n",
    "\n",
    "pizza_place = Pizzeria(\"Pizza Palace\")\n",
    "print(f\"{pizza_place.name}: {pizza_place.prepare_food()}\")\n",
    "\n",
    "steak_house = SteakHouse(\"Steak World\")\n",
    "print(f\"{steak_house.name}: {steak_house.prepare_food()}\")\n"
   ]
  }
 ],
 "metadata": {
  "kernelspec": {
   "display_name": "Python 3",
   "language": "python",
   "name": "python3"
  },
  "language_info": {
   "codemirror_mode": {
    "name": "ipython",
    "version": 3
   },
   "file_extension": ".py",
   "mimetype": "text/x-python",
   "name": "python",
   "nbconvert_exporter": "python",
   "pygments_lexer": "ipython3",
   "version": "3.11.5"
  }
 },
 "nbformat": 4,
 "nbformat_minor": 2
}
