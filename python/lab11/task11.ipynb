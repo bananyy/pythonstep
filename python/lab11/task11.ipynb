{
 "cells": [
  {
   "cell_type": "markdown",
   "metadata": {},
   "source": [
    "# Аналіз частоти слів на новинних сайтах з використанням Selenium (7 балів)\n",
    "\n",
    "## Мета Лабораторної Роботи:\n",
    "Розвинути навички використання Selenium для збору даних з веб-сторінок.\n",
    "Практично застосувати Python для аналізу текстових даних і виявлення тенденцій.\n",
    "\n",
    "## Завдання Лабораторної Роботи:\n",
    "### Опис Завдання:\n",
    "Створити скрипт на Python, який використовує Selenium для аналізу частоти зустрічання слів на обраних новинних сайтах за різні місяці та роки.\n",
    "\n",
    "### Етапи Виконання:\n",
    "1. Вибір Сайтів для Аналізу: Оберіть кілька новинних сайтів (наприклад, bbc.com, cnn.com).\n",
    "2. Розробка Скрипта:\n",
    "    - Ініціалізуйте WebDriver для керування браузером.\n",
    "    - Налаштуйте скрипт для відвідування архівних розділів обраних сайтів по місяцям та рокам.\n",
    "    - Зберіть тексти новин за кожен період.\n",
    "    - Проаналізуйте тексти, визначаючи частоту кожного слова.\n",
    "3. Аналіз Даних:\n",
    "    - Порівняйте найбільш часто зустрічаючіся слова в різні місяці та роки.\n",
    "    - Визначте, які слова були популярні у певні періоди часу.\n",
    "4. Висновок Результатів:\n",
    "    - Візуалізуйте результати у вигляді графіків або таблиць.\n",
    "    - Сформулюйте висновки про динаміку популярності слів у новинній сфері.\n",
    "\n",
    "## Особливі Вказівки:\n",
    "- Враховуйте виключно зміст новинних статей, виключаючи коментарі, рекламу та неновинні матеріали.\n",
    "- Забезпечте коректну обробку тексту, включаючи нормалізацію та очищення від знаків пунктуації та спеціальних символів.\n"
   ]
  },
  {
   "cell_type": "code",
   "execution_count": 14,
   "metadata": {},
   "outputs": [
    {
     "ename": "AttributeError",
     "evalue": "'WebDriver' object has no attribute 'find_elements_by_css_selector'",
     "output_type": "error",
     "traceback": [
      "\u001b[1;31m---------------------------------------------------------------------------\u001b[0m",
      "\u001b[1;31mAttributeError\u001b[0m                            Traceback (most recent call last)",
      "\u001b[1;32mc:\\Users\\Роман\\Downloads\\Telegram Desktop\\task11.ipynb Cell 2\u001b[0m line \u001b[0;36m1\n\u001b[0;32m     <a href='vscode-notebook-cell:/c%3A/Users/%D0%A0%D0%BE%D0%BC%D0%B0%D0%BD/Downloads/Telegram%20Desktop/task11.ipynb#W1sZmlsZQ%3D%3D?line=12'>13</a>\u001b[0m driver\u001b[39m.\u001b[39mget(site)\n\u001b[0;32m     <a href='vscode-notebook-cell:/c%3A/Users/%D0%A0%D0%BE%D0%BC%D0%B0%D0%BD/Downloads/Telegram%20Desktop/task11.ipynb#W1sZmlsZQ%3D%3D?line=13'>14</a>\u001b[0m \u001b[39m# Отримання тексту з архівних розділів\u001b[39;00m\n\u001b[1;32m---> <a href='vscode-notebook-cell:/c%3A/Users/%D0%A0%D0%BE%D0%BC%D0%B0%D0%BD/Downloads/Telegram%20Desktop/task11.ipynb#W1sZmlsZQ%3D%3D?line=14'>15</a>\u001b[0m archive_links \u001b[39m=\u001b[39m driver\u001b[39m.\u001b[39;49mfind_elements_by_css_selector(\u001b[39m'\u001b[39m\u001b[39m.archive-link\u001b[39m\u001b[39m'\u001b[39m)\n\u001b[0;32m     <a href='vscode-notebook-cell:/c%3A/Users/%D0%A0%D0%BE%D0%BC%D0%B0%D0%BD/Downloads/Telegram%20Desktop/task11.ipynb#W1sZmlsZQ%3D%3D?line=16'>17</a>\u001b[0m \u001b[39m# Цикл для переходу по архівним посиланням та отримання тексту новин\u001b[39;00m\n\u001b[0;32m     <a href='vscode-notebook-cell:/c%3A/Users/%D0%A0%D0%BE%D0%BC%D0%B0%D0%BD/Downloads/Telegram%20Desktop/task11.ipynb#W1sZmlsZQ%3D%3D?line=17'>18</a>\u001b[0m \u001b[39mfor\u001b[39;00m link \u001b[39min\u001b[39;00m archive_links:\n",
      "\u001b[1;31mAttributeError\u001b[0m: 'WebDriver' object has no attribute 'find_elements_by_css_selector'"
     ]
    }
   ],
   "source": [
    "from selenium import webdriver\n",
    "from selenium.webdriver.common.by import By\n",
    "from selenium.webdriver.support.ui import WebDriverWait\n",
    "from selenium.webdriver.support import expected_conditions as EC\n",
    "from collections import Counter\n",
    "import matplotlib.pyplot as plt\n",
    "\n",
    "websites = ['https://www.bbc.com/', 'https://edition.cnn.com/']\n",
    "\n",
    "driver = webdriver.Chrome()\n",
    "\n",
    "for site in websites:\n",
    "    driver.get(site)\n",
    "    # Отримання тексту з архівних розділів\n",
    "    archive_links = driver.find_elements_by_css_selector('.archive-link')\n",
    "    \n",
    "    # Цикл для переходу по архівним посиланням та отримання тексту новин\n",
    "    for link in archive_links:\n",
    "        link.click()\n",
    "        # Дочекатися завантаження сторінки\n",
    "        try:\n",
    "            element = WebDriverWait(driver, 10).until(\n",
    "                EC.presence_of_element_located((By.CLASS_NAME, 'article-text'))\n",
    "            )\n",
    "        except:\n",
    "            print(\"Timeout or element not found\")\n",
    "            continue\n",
    "\n",
    "        # Отримання тексту статті\n",
    "        article_text = driver.find_element_by_class_name('article-text').text\n",
    "\n",
    "        # Очищення та обробка тексту\n",
    "        cleaned_text = clean_text(article_text)\n",
    "\n",
    "        # Розбивка тексту на слова та підрахунок частоти слів\n",
    "        words = cleaned_text.split()\n",
    "        word_count = Counter(words)\n",
    "\n",
    "        # Вивід найбільш часто зустрічаючихся слів\n",
    "        print(f\"Most common words on {link.text}:\")\n",
    "        print(word_count.most_common(10))\n",
    "\n",
    "        # Візуалізація\n",
    "        top_words = dict(word_count.most_common(10))\n",
    "        plt.bar(top_words.keys(), top_words.values())\n",
    "        plt.title(f\"Top words on {link.text}\")\n",
    "        plt.xlabel(\"Words\")\n",
    "        plt.ylabel(\"Frequency\")\n",
    "        plt.xticks(rotation=45)\n",
    "        plt.show()\n",
    "\n",
    "# Закриття драйвера\n",
    "driver.quit()\n"
   ]
  }
 ],
 "metadata": {
  "kernelspec": {
   "display_name": "Python 3",
   "language": "python",
   "name": "python3"
  },
  "language_info": {
   "codemirror_mode": {
    "name": "ipython",
    "version": 3
   },
   "file_extension": ".py",
   "mimetype": "text/x-python",
   "name": "python",
   "nbconvert_exporter": "python",
   "pygments_lexer": "ipython3",
   "version": "3.11.5"
  }
 },
 "nbformat": 4,
 "nbformat_minor": 2
}
