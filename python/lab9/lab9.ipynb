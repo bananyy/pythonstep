{
 "cells": [
  {
   "cell_type": "markdown",
   "id": "8a9913bf",
   "metadata": {},
   "source": [
    "\n",
    "# Лабораторна робота: Аналіз даних про втрати військової техніки та особового складу\n",
    "\n",
    "## Мета:\n",
    "Вивчити базові прийоми аналізу даних за допомогою pandas та візуалізації даних з matplotlib на реальних даних.\n",
    "\n",
    "## Завдання:\n",
    "1. Попередня обробка даних.\n",
    "2. Аналіз даних.\n",
    "3. Візуалізація даних.\n",
    "\n",
    "### Дані:\n",
    "- `russia_losses_equipment.csv` - дані про втрати техніки.\n",
    "- `russia_losses_equipment_correction.csv` - дані про корекції втрат техніки.\n",
    "- `russia_losses_personnel.csv` - дані про втрати особового складу.\n",
    "\n",
    "### Попередня обробка даних:\n",
    "- Завантажте дані за допомогою pandas.\n",
    "- Очистіть дані від відсутніх значень та дублікатів.\n",
    "- Виконайте перетворення даних.\n",
    "\n",
    "### Аналіз даних:\n",
    "- Розрахуйте основні статистичні показники.\n",
    "- Використайте групування для аналізу підгруп у даних.\n",
    "- Відсортуйте даних.\n",
    "\n",
    "### Візуалізація даних:\n",
    "- Візуалізуйте дані за допомогою matplotlib.\n"
   ]
  },
  {
   "cell_type": "code",
   "execution_count": 1,
   "metadata": {},
   "outputs": [
    {
     "data": {
      "text/plain": [
       "date                           NaN\n",
       "day                            2.0\n",
       "aircraft                      10.0\n",
       "helicopter                     7.0\n",
       "tank                          80.0\n",
       "APC                          516.0\n",
       "field artillery               49.0\n",
       "MRL                            4.0\n",
       "military auto                  0.0\n",
       "fuel tank                      0.0\n",
       "drone                          0.0\n",
       "naval ship                     2.0\n",
       "anti-aircraft warfare          0.0\n",
       "special equipment              0.0\n",
       "mobile SRBM system             0.0\n",
       "greatest losses direction      0.0\n",
       "vehicles and fuel tanks        0.0\n",
       "cruise missiles                0.0\n",
       "submarines                     0.0\n",
       "dtype: float64"
      ]
     },
     "metadata": {},
     "output_type": "display_data"
    },
    {
     "data": {
      "text/plain": [
       "date                            NaN\n",
       "day                           620.0\n",
       "aircraft                      322.0\n",
       "helicopter                    324.0\n",
       "tank                         5284.0\n",
       "APC                          9953.0\n",
       "field artillery              7375.0\n",
       "MRL                           867.0\n",
       "military auto                1701.0\n",
       "fuel tank                      76.0\n",
       "drone                        5534.0\n",
       "naval ship                     20.0\n",
       "anti-aircraft warfare         570.0\n",
       "special equipment            1047.0\n",
       "mobile SRBM system              4.0\n",
       "greatest losses direction       0.0\n",
       "vehicles and fuel tanks      9730.0\n",
       "cruise missiles              1554.0\n",
       "submarines                      1.0\n",
       "dtype: float64"
      ]
     },
     "metadata": {},
     "output_type": "display_data"
    },
    {
     "data": {
      "text/plain": [
       "date                           0\n",
       "day                          619\n",
       "aircraft                     154\n",
       "helicopter                   166\n",
       "tank                         601\n",
       "APC                          611\n",
       "field artillery              598\n",
       "MRL                          323\n",
       "military auto                 65\n",
       "fuel tank                      7\n",
       "drone                        549\n",
       "naval ship                    17\n",
       "anti-aircraft warfare        299\n",
       "special equipment            362\n",
       "mobile SRBM system             3\n",
       "greatest losses direction      1\n",
       "vehicles and fuel tanks      549\n",
       "cruise missiles              154\n",
       "submarines                     2\n",
       "dtype: int64"
      ]
     },
     "metadata": {},
     "output_type": "display_data"
    }
   ],
   "source": [
    "import pandas as pd \n",
    "import matplotlib.pyplot as plt\n",
    "import pandas as pd\n",
    "import matplotlib.pyplot as plt\n",
    "\n",
    "equipment_df = pd.read_csv('russia_losses_equipment.csv')\n",
    "corrections_df = pd.read_csv('russia_losses_equipment_correction.csv')\n",
    "personnel_df = pd.read_csv('russia_losses_personnel.csv')\n",
    "\n",
    "equipment_df.drop_duplicates(inplace=True)\n",
    "corrections_df.drop_duplicates(inplace=True)\n",
    "personnel_df.drop_duplicates(inplace=True)\n",
    "\n",
    "equipment_df = equipment_df.fillna(0)\n",
    "corrections_df = corrections_df.fillna(0)\n",
    "personnel_df = personnel_df.dropna()\n",
    "merged_df = pd.merge(equipment_df,corrections_df, how='inner', on='date')\n",
    "equipment_df_numeric = equipment_df.apply(pd.to_numeric, errors='coerce')\n",
    "\n",
    "equipment_df_numeric.describe()\n",
    "unique_counts_equipment = equipment_df_numeric.nunique()\n",
    "min_value_equip = equipment_df_numeric.min()\n",
    "max_value_equip = equipment_df_numeric.max()\n",
    "display(min_value_equip, max_value_equip, unique_counts_equipment)"
   ]
  }
 ],
 "metadata": {
  "kernelspec": {
   "display_name": "Python 3",
   "language": "python",
   "name": "python3"
  },
  "language_info": {
   "codemirror_mode": {
    "name": "ipython",
    "version": 3
   },
   "file_extension": ".py",
   "mimetype": "text/x-python",
   "name": "python",
   "nbconvert_exporter": "python",
   "pygments_lexer": "ipython3",
   "version": "3.11.5"
  }
 },
 "nbformat": 4,
 "nbformat_minor": 5
}
